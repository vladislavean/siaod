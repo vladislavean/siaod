{
  "cells": [
    {
      "cell_type": "markdown",
      "id": "fifteen-sailing",
      "metadata": {
        "id": "fifteen-sailing"
      },
      "source": [
        "# Лабораторная работа №2\n",
        "\n",
        "## Выполнил Ананьев В.Д БСТ2105 "
      ]
    },
    {
      "cell_type": "markdown",
      "id": "arctic-stocks",
      "metadata": {
        "id": "arctic-stocks"
      },
      "source": [
        "Реализовать следующие структуры данных:\n",
        "  \n",
        "● <b> Стек (stack): </b>  \n",
        "Операции для стека: \n",
        "<i> инициализация, проверка на пустоту, добавление нового элемента в начало, извлечение элемента из начала;  </i>  \n",
        "  \n",
        "● <b> Дек (двусторонняя очередь, deque):  </b>  \n",
        "Операции для дека: \n",
        "<i> инициализация, проверка на пустоту, добавление нового элемента в начало, добавление нового элемента в конец, извлечение элемента из начала, извлечение элемента из конца. </i>  \n",
        "  \n",
        "<i> Разработать программу обработки данных, содержащихся в заранее подготовленном txt-файле, в соответствии с заданиями, применив указанную в задании структуру данных. Результат работы программы вывести на экран и сохранить в отдельном txt-файле. </i>"
      ]
    },
    {
      "cell_type": "markdown",
      "id": "5d7edb08",
      "metadata": {
        "scrolled": true,
        "id": "5d7edb08"
      },
      "source": [
        "### Задание №1\n",
        "Отсортировать строки файла, содержащие названия книг, в алфавитном порядке с использованием двух деков."
      ]
    },
    {
      "cell_type": "code",
      "source": [
        "class Queue:\n",
        "\n",
        "    def __init__(self):\n",
        "        self.queue = []\n",
        "\n",
        "    def enqueue(self, item):\n",
        "        self.queue.append(item)\n",
        "    def dequeue(self):\n",
        "        if len(self.queue) < 1:\n",
        "            return None\n",
        "        return self.queue.pop()\n",
        "    def display(self):\n",
        "        print(self.queue)\n",
        "    def size(self):\n",
        "        return len(self.queue)\n",
        "\n",
        "class Deque:\n",
        "    def __init__(self):\n",
        "        self.values = []\n",
        "\n",
        "    def isEmpty(self):\n",
        "        return self.values == []\n",
        "\n",
        "    def addRight(self, val):\n",
        "        self.values.append(val)\n",
        "\n",
        "    def addLeft(self, val):\n",
        "        self.values.insert(0, val)\n",
        "\n",
        "    def removeRight(self):\n",
        "        try:\n",
        "          tmp = self.values[-1]\n",
        "          self.values = self.values[0:-1]\n",
        "          return tmp\n",
        "        except:\n",
        "          print(\"deque is empty\")\n",
        "\n",
        "    def removeLeft(self):\n",
        "        try:\n",
        "          tmp = self.values[0]\n",
        "          self.values = self.values[1:]\n",
        "          return tmp\n",
        "        except:\n",
        "          print(\"deque is empty\")\n",
        "        \n",
        "\n",
        "    def size(self):\n",
        "        return len(self.values)\n",
        "\n",
        "    def indexOf(self, findIndex):\n",
        "      for ind in range(len(self.values)):\n",
        "        if self.values[ind] == findIndex:\n",
        "          return ind\n",
        "    "
      ],
      "metadata": {
        "id": "m0C_OfN160sS"
      },
      "id": "m0C_OfN160sS",
      "execution_count": null,
      "outputs": []
    },
    {
      "cell_type": "code",
      "execution_count": null,
      "id": "17702ade",
      "metadata": {
        "id": "17702ade",
        "colab": {
          "base_uri": "https://localhost:8080/"
        },
        "outputId": "b4ec5e44-4920-4e0e-920d-a4209f9a054c"
      },
      "outputs": [
        {
          "output_type": "stream",
          "name": "stdout",
          "text": [
            "['1', '1984', 'Автостопом по галактике', 'Алиса в Стране чудес', 'Большие надежды', 'Ветер в ивах', 'Винни Пух', 'Властелин колец', 'Война и мир', 'Гарри Поттер и Кубок огня', 'Гарри Поттер и Тайная комната', 'Гарри Поттер и узник Азкабана', 'Гарри Поттер и философский камень', 'Гордость и предубеждение', 'Гроздья гнева', 'Грозовой перевал', 'Джейн Эйр', 'Лев, колдунья и платяной шкаф', 'Маленькие женщины', 'Мандолина капитана Корелли', 'Миддлмарч', 'Молитва об Оуэне Мини', 'Над пропастью во ржи', 'Пение птиц', 'Ребекка', 'Тэсс из рода д’Эрбервиллей', 'Тёмные начала', 'Убить пересмешника', 'Уловка-22', 'Хоббит, или Туда и обратно', 'Унесённые ветром']\n"
          ]
        }
      ],
      "source": [
        "deq1, deq2 = Deque(), Deque()\n",
        "with open(\"книги.txt\") as file:\n",
        "  f = file.read()\n",
        "  f = f.split(\"\\n\")\n",
        "  for fi in f:\n",
        "    deq1.addRight(fi)\n",
        "deq2.addRight(\"1\")\n",
        "while deq1.values:\n",
        "  x = deq1.removeRight()\n",
        "  while deq1.size() != 0 and deq2.values[-1] > x:\n",
        "      deq1.addLeft(deq2.removeRight())\n",
        "  deq2.addRight(x)\n",
        "    \n",
        "print(deq2.values)\n"
      ]
    },
    {
      "cell_type": "markdown",
      "id": "49fbd2a0",
      "metadata": {
        "id": "49fbd2a0"
      },
      "source": [
        "### Задание №2\n",
        "Дек содержит последовательность символов для шифровки сообщений. Дан текстовый файл, содержащий зашифрованное сообщение. Пользуясь деком, расшифровать текст. \n",
        "Известно, что при шифровке каждый символ сообщения заменялся следующим за ним в деке по часовой стрелке через один."
      ]
    },
    {
      "cell_type": "code",
      "execution_count": null,
      "id": "81cab7a8",
      "metadata": {
        "id": "81cab7a8",
        "colab": {
          "base_uri": "https://localhost:8080/"
        },
        "outputId": "2be8ad3e-ed33-4af0-df8a-382f64bd7680"
      },
      "outputs": [
        {
          "output_type": "stream",
          "name": "stdout",
          "text": [
            "это зашифрованное сообщение\n"
          ]
        }
      ],
      "source": [
        "alph = list('абвгдеёжзийклмнопрстуфхцчшщъыьэюя')\n",
        "deq1, deq2 = Deque(), Deque()\n",
        "for i in range(len(alph)):\n",
        "  deq1.addRight(alph[(i + 2) % len(alph)])\n",
        "\n",
        "with open(\"message.txt\") as file:\n",
        "  str = file.readline()\n",
        "  for s in str:\n",
        "    if s != \"\\n\":\n",
        "      deq2.addRight(s)\n",
        "decodeStr = \"\"\n",
        "for ch in deq2.values:\n",
        "  if ch in alph:\n",
        "    decodeStr += alph[deq1.indexOf(ch)]\n",
        "  else:\n",
        "    decodeStr += ch\n",
        "print(decodeStr)"
      ]
    },
    {
      "cell_type": "code",
      "source": [],
      "metadata": {
        "id": "5P9AxbRymAmG"
      },
      "id": "5P9AxbRymAmG",
      "execution_count": null,
      "outputs": []
    },
    {
      "cell_type": "markdown",
      "id": "c0894f47",
      "metadata": {
        "id": "c0894f47"
      },
      "source": [
        "### Задание №3\n",
        "Даны три стержня и n дисков различного размера. Диски можно надевать на стержни, образуя из них башни. Перенести n дисков со стержня А на стержень С, сохранив их первоначальный порядок. При переносе дисков необходимо соблюдать следующие правила:\n",
        "- на каждом шаге со стержня на стержень переносить только один диск;\n",
        "- диск нельзя помещать на диск меньшего размера;\n",
        "- для промежуточного хранения можно использовать стержень В.\n",
        "Реализовать алгоритм, используя три стека вместо стержней А, В, С. Информация о дисках хранится в исходном файле."
      ]
    },
    {
      "cell_type": "code",
      "execution_count": null,
      "id": "9e91a9d4",
      "metadata": {
        "id": "9e91a9d4",
        "colab": {
          "base_uri": "https://localhost:8080/"
        },
        "outputId": "4e7122ef-316b-40a4-f2a6-30e2cbf46991"
      },
      "outputs": [
        {
          "output_type": "stream",
          "name": "stdout",
          "text": [
            "Количество дисков = 5\n",
            "[5, 4, 3, 2, 1] [] []\n",
            "[] [] [5, 4, 3, 2, 1]\n"
          ]
        }
      ],
      "source": [
        "n = int(input(\"Количество дисков = \"))\n",
        "A, B, C = [i for i in range(n,0,-1)], [], []\n",
        "print(A, B, C)\n",
        "\n",
        "def hanoi(n, start, tmp, finish):\n",
        "    if n <= 0:\n",
        "        return\n",
        "    hanoi(n-1, start, finish, tmp)\n",
        "    finish.append(start.pop())\n",
        "    hanoi(n - 1, tmp, start, finish)\n",
        "hanoi(n, A, B, C)\n",
        "print(A, B, C)"
      ]
    },
    {
      "cell_type": "markdown",
      "id": "e5b0be17",
      "metadata": {
        "id": "e5b0be17"
      },
      "source": [
        "### Задание №4\n",
        "Дан текстовый файл с программой на алгоритмическом языке. За один просмотр файла проверить баланс круглых скобок в тексте, используя стек."
      ]
    },
    {
      "cell_type": "code",
      "execution_count": null,
      "id": "5b1df60a",
      "metadata": {
        "id": "5b1df60a",
        "colab": {
          "base_uri": "https://localhost:8080/"
        },
        "outputId": "6495ec27-3fa0-468b-9f78-ef830aed6eb5"
      },
      "outputs": [
        {
          "output_type": "stream",
          "name": "stdout",
          "text": [
            "False\n"
          ]
        }
      ],
      "source": [
        "br = Deque()\n",
        "with open(\"brakets.txt\") as file:\n",
        "  string = file.readline()\n",
        "  for char in string:\n",
        "    if char != \"\\n\":\n",
        "      br.addRight(char)\n",
        "\n",
        "def check_brackets():\n",
        "  temp = Deque()\n",
        "  for char in br.values:\n",
        "    if char == \"(\":\n",
        "      temp.addRight(\"(\")\n",
        "    else:\n",
        "      if temp.size() == 0:\n",
        "        return False\n",
        "      temp.removeRight()\n",
        "  if temp.size() == 0:\n",
        "    return True\n",
        "  else:\n",
        "    return False\n",
        "print(check_brackets())"
      ]
    },
    {
      "cell_type": "markdown",
      "id": "c44cdd6b",
      "metadata": {
        "id": "c44cdd6b"
      },
      "source": [
        "### Задание №5\n",
        "Дан текстовый файл с программой на алгоритмическом языке. За один просмотр файла проверить баланс квадратных скобок в тексте, используя дек."
      ]
    },
    {
      "cell_type": "code",
      "execution_count": null,
      "id": "36b8f400",
      "metadata": {
        "id": "36b8f400",
        "colab": {
          "base_uri": "https://localhost:8080/"
        },
        "outputId": "6aba0cde-d177-411d-f025-96e6b8464940"
      },
      "outputs": [
        {
          "output_type": "stream",
          "name": "stdout",
          "text": [
            "True\n"
          ]
        }
      ],
      "source": [
        "br = Deque()\n",
        "with open(\"1bracketstrue.txt\") as file:\n",
        "  string = file.readline()\n",
        "  for char in string:\n",
        "    if char != \"\\n\":\n",
        "      br.addRight(char)\n",
        "\n",
        "def check_brackets():\n",
        "  temp = Deque()\n",
        "  for char in br.values:\n",
        "    if char == \"[\":\n",
        "      temp.addRight(\"[\")\n",
        "    else:\n",
        "      if temp.size() == 0:\n",
        "        return False\n",
        "      temp.removeRight()\n",
        "  if temp.size() == 0:\n",
        "    return True\n",
        "  else:\n",
        "    return False\n",
        "print(check_brackets())"
      ]
    },
    {
      "cell_type": "markdown",
      "id": "59d13dc7",
      "metadata": {
        "id": "59d13dc7"
      },
      "source": [
        "### Задание №6\n",
        "Дан файл из символов. Используя стек, за один просмотр файла напечатать сначала все цифры, затем все буквы, и, наконец, все остальные символы, сохраняя исходный порядок в каждой группе символов."
      ]
    },
    {
      "cell_type": "code",
      "execution_count": null,
      "id": "297e36c2",
      "metadata": {
        "id": "297e36c2",
        "colab": {
          "base_uri": "https://localhost:8080/"
        },
        "outputId": "b8809f5d-06cb-4be7-91f5-56e1b33863c9"
      },
      "outputs": [
        {
          "output_type": "stream",
          "name": "stdout",
          "text": [
            "12345567877777abcdefghijklmnopqrstuvwxyz./ { } *@@@* ^^::; ;__&*(&*(&*(\n"
          ]
        }
      ],
      "source": [
        "deq1 = Deque()\n",
        "with open(\"6.txt\") as file:\n",
        "  string = file.readline()\n",
        "  for char in string:\n",
        "    if char != \"\\n\":\n",
        "      deq1.addRight(char)\n",
        "sumbols = []\n",
        "nums = []\n",
        "other = []\n",
        "for char in deq1.values:\n",
        "  if char.isdigit() == True:\n",
        "    nums.append(char)\n",
        "  elif char.isalpha() == True:\n",
        "    sumbols.append(char)\n",
        "  else:\n",
        "    other.append(char)\n",
        "print(\"\".join(nums + sumbols + other))"
      ]
    },
    {
      "cell_type": "markdown",
      "id": "973f68bd",
      "metadata": {
        "id": "973f68bd"
      },
      "source": [
        "### Задание №7\n",
        "Дан файл из целых чисел. Используя дек, за один просмотр файла напечатать сначала все отрицательные числа, затем все положительные числа, сохраняя исходный порядок в каждой группе."
      ]
    },
    {
      "cell_type": "code",
      "execution_count": null,
      "id": "c56fad66",
      "metadata": {
        "id": "c56fad66",
        "colab": {
          "base_uri": "https://localhost:8080/"
        },
        "outputId": "a61df0dc-65e8-4a97-a299-c97b278a370d"
      },
      "outputs": [
        {
          "output_type": "stream",
          "name": "stdout",
          "text": [
            "Исходный массив:\n",
            " 5 13 -12 4 -3 -2 8 9 19 0 -4 66\n",
            "Измененный массив:\n",
            "-12 -3 -2 -4 5 13 4 8 9 19 0 66 "
          ]
        }
      ],
      "source": [
        "deq = Deque()\n",
        "with open(\"7.txt\", \"r\", encoding=\"utf-8\") as readfile:\n",
        "    s = readfile.readline().split()\n",
        "    print(\"Исходный массив:\\n\",*s)\n",
        "    s = map(int, s)\n",
        "for n in s:\n",
        "    if n < 0:\n",
        "        deq.addLeft(n)\n",
        "    else:\n",
        "        deq.addRight(n)\n",
        "while deq.values:\n",
        "    x = deq.removeLeft()\n",
        "    if x < 0:\n",
        "        deq.addRight(x)\n",
        "    else:\n",
        "        deq.addLeft(x)\n",
        "        break\n",
        "print(\"Измененный массив:\")\n",
        "while deq.values:\n",
        "    x = deq.removeRight()\n",
        "    if x < 0:\n",
        "        print(x, end = \" \")\n",
        "    else:\n",
        "        deq.addRight(x)\n",
        "        while deq.values:\n",
        "            print(deq.removeLeft(), end = \" \")\n",
        "        break"
      ]
    },
    {
      "cell_type": "markdown",
      "id": "b9228191",
      "metadata": {
        "id": "b9228191"
      },
      "source": [
        "### Задание №8\n",
        "Дан текстовый файл. Используя стек, сформировать новый текстовый файл, содержащий строки исходного файла, записанные в обратном порядке: первая строка становится последней, вторая – предпоследней и т.д."
      ]
    },
    {
      "cell_type": "code",
      "execution_count": null,
      "id": "981fbdfe",
      "metadata": {
        "id": "981fbdfe",
        "colab": {
          "base_uri": "https://localhost:8080/"
        },
        "outputId": "08b9533b-353b-4071-af29-fd790a43cc66"
      },
      "outputs": [
        {
          "output_type": "stream",
          "name": "stdout",
          "text": [
            "пятый\n",
            "четвертый\n",
            "третий\n",
            "второй\n",
            "первый\n"
          ]
        }
      ],
      "source": [
        "stack = Queue()\n",
        "with open(\"8.txt\", \"r\", encoding=\"utf-8\") as readfile:\n",
        "    for string in readfile:\n",
        "        stack.enqueue(string)\n",
        "        \n",
        "final = Queue()\n",
        "while stack.queue:\n",
        "      final.enqueue(stack.dequeue())\n",
        "for i in final.queue:\n",
        "  print(i, end = \"\")"
      ]
    },
    {
      "cell_type": "markdown",
      "id": "rental-jerusalem",
      "metadata": {
        "id": "rental-jerusalem"
      },
      "source": [
        "### Вывод\n"
      ]
    },
    {
      "cell_type": "markdown",
      "id": "0c2b8899",
      "metadata": {
        "id": "0c2b8899"
      },
      "source": [
        "Мы научились работать с очередью и стеками."
      ]
    }
  ],
  "metadata": {
    "kernelspec": {
      "display_name": "Python 3 (ipykernel)",
      "language": "python",
      "name": "python3"
    },
    "language_info": {
      "codemirror_mode": {
        "name": "ipython",
        "version": 3
      },
      "file_extension": ".py",
      "mimetype": "text/x-python",
      "name": "python",
      "nbconvert_exporter": "python",
      "pygments_lexer": "ipython3",
      "version": "3.10.2"
    },
    "colab": {
      "provenance": []
    }
  },
  "nbformat": 4,
  "nbformat_minor": 5
}