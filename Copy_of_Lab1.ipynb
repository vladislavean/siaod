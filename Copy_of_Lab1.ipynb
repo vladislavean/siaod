{
  "cells": [
    {
      "cell_type": "markdown",
      "metadata": {
        "id": "view-in-github",
        "colab_type": "text"
      },
      "source": [
        "<a href=\"https://colab.research.google.com/github/vladislavean/siaod/blob/main/Copy_of_Lab1.ipynb\" target=\"_parent\"><img src=\"https://colab.research.google.com/assets/colab-badge.svg\" alt=\"Open In Colab\"/></a>"
      ]
    },
    {
      "cell_type": "markdown",
      "id": "fifteen-sailing",
      "metadata": {
        "id": "fifteen-sailing"
      },
      "source": [
        "# Лабораторная работа №1\n",
        "## Выполнил Ананьев В.Д БСТ2105"
      ]
    },
    {
      "cell_type": "markdown",
      "id": "particular-syndicate",
      "metadata": {
        "id": "particular-syndicate"
      },
      "source": [
        "### Оглавление\n",
        "1. [Задание 1](#Задание-№1)\n",
        "2. [Задание 2](#Задание-№2)\n",
        "3. [Задание 3](#Задание-№3)\n",
        "4. [Вывод](#Вывод)"
      ]
    },
    {
      "cell_type": "markdown",
      "id": "arctic-stocks",
      "metadata": {
        "id": "arctic-stocks"
      },
      "source": [
        "### Задание №1\n",
        "<i> Вызвать функцию print() и передать туда строку Hello, World! </i>"
      ]
    },
    {
      "cell_type": "code",
      "execution_count": null,
      "id": "caring-truck",
      "metadata": {
        "scrolled": true,
        "id": "caring-truck",
        "outputId": "400f7db9-2767-4450-d87c-c41d63463a96",
        "colab": {
          "base_uri": "https://localhost:8080/"
        }
      },
      "outputs": [
        {
          "output_type": "stream",
          "name": "stdout",
          "text": [
            "Hello, World!\n"
          ]
        }
      ],
      "source": [
        "print(\"Hello, World!\")"
      ]
    },
    {
      "cell_type": "markdown",
      "id": "maritime-conversation",
      "metadata": {
        "id": "maritime-conversation"
      },
      "source": [
        "### Задание №2\n",
        "Написать генератор случайных матриц(многомерных), который принимает\n",
        "опциональные параметры <b>m</b>, <b>n</b>, <b>min_limit</b>, <b>max_limit</b>, где <b>m</b> и <b>n</b> указывают размер\n",
        "матрицы, а <b>min_lim</b> и <b>max_lim</b> - минимальное и максимальное значение для\n",
        "генерируемого числа."
      ]
    },
    {
      "cell_type": "code",
      "execution_count": null,
      "id": "built-contact",
      "metadata": {
        "id": "built-contact"
      },
      "outputs": [],
      "source": [
        "import random\n",
        "import time"
      ]
    },
    {
      "cell_type": "code",
      "execution_count": null,
      "id": "alert-charm",
      "metadata": {
        "id": "alert-charm",
        "colab": {
          "base_uri": "https://localhost:8080/"
        },
        "outputId": "1bd58591-89c0-409b-a3ec-cbab7284d1ad"
      },
      "outputs": [
        {
          "output_type": "stream",
          "name": "stdout",
          "text": [
            "10\n",
            "10\n",
            "-10\n",
            "5\n",
            "[0, -6, -10, -5, 0, 2, 3, -8, -3, -1]\n",
            "[5, 1, 3, -1, 2, 0, -2, -3, -4, 5]\n",
            "[-7, 3, 1, -9, -6, -10, 3, -1, -10, -9]\n",
            "[-9, -6, -6, 5, 5, -6, 1, 0, -8, -9]\n",
            "[-8, -10, -9, 1, -7, 5, -2, -3, 1, -5]\n",
            "[-9, -7, -4, -6, -2, 4, 1, -2, -5, -1]\n",
            "[-3, -8, -2, -4, 4, 3, -9, 2, -5, -9]\n",
            "[-10, 5, 1, 3, 3, -10, -4, 2, 0, -5]\n",
            "[-9, 4, 3, 1, 3, 5, 5, -3, -9, -4]\n",
            "[0, 3, -9, -3, -2, 2, 4, 1, -10, -3]\n"
          ]
        }
      ],
      "source": [
        "user_m = int(input())\n",
        "user_n = int(input())\n",
        "user_min_limit = int(input())\n",
        "user_max_limit = int(input())\n",
        "matrix = [ [ random.randint(user_min_limit, user_max_limit) for j in range(user_n)] for i in range(user_m) ]\n",
        "for i in range(int(user_m)):\n",
        "  print(matrix[i])"
      ]
    },
    {
      "cell_type": "markdown",
      "id": "catholic-roots",
      "metadata": {
        "id": "catholic-roots"
      },
      "source": [
        "### Задание №3\n",
        "Реализовать методы сортировки строк числовой матрицы в соответствии с\n",
        "заданием. Оценить время работы каждого алгоритма сортировки и сравнить его со\n",
        "временем стандартной функции сортировки. Испытания проводить на сгенерированных\n",
        "матрицах."
      ]
    },
    {
      "cell_type": "code",
      "execution_count": null,
      "id": "opposed-creature",
      "metadata": {
        "id": "opposed-creature"
      },
      "outputs": [],
      "source": [
        "import copy"
      ]
    },
    {
      "cell_type": "code",
      "execution_count": null,
      "id": "cleared-anniversary",
      "metadata": {
        "id": "cleared-anniversary",
        "outputId": "04381d57-fbba-4908-d62c-5e585bf8c5ce",
        "colab": {
          "base_uri": "https://localhost:8080/"
        }
      },
      "outputs": [
        {
          "output_type": "stream",
          "name": "stdout",
          "text": [
            "Сортировка....\\\n",
            "[-10, -8, -6, -5, -3, -1, 0, 0, 2, 3]\n",
            "[-4, -3, -2, -1, 0, 1, 2, 3, 5, 5]\n",
            "[-10, -10, -9, -9, -7, -6, -1, 1, 3, 3]\n",
            "[-9, -9, -8, -6, -6, -6, 0, 1, 5, 5]\n",
            "[-10, -9, -8, -7, -5, -3, -2, 1, 1, 5]\n",
            "[-9, -7, -6, -5, -4, -2, -2, -1, 1, 4]\n",
            "[-9, -9, -8, -5, -4, -3, -2, 2, 3, 4]\n",
            "[-10, -10, -5, -4, 0, 1, 2, 3, 3, 5]\n",
            "[-9, -9, -4, -3, 1, 3, 3, 4, 5, 5]\n",
            "[-10, -9, -3, -3, -2, 0, 1, 2, 3, 4]\n",
            "--- 10 ms ---\n"
          ]
        }
      ],
      "source": [
        "# Сортировка выбором.\n",
        "# Берётся срез массива, в котором минимальный элемент переносят в самый левый угол,\n",
        "# после чего срез уменьшается и цикл повторяется.\n",
        "def selectionSort(a):\n",
        "  for i in range(len(a) - 1):\n",
        "      min = i\n",
        "      for j in range(i + 1, len(a)):\n",
        "          if a[j] < a[min]:\n",
        "              min = j\n",
        "      a[i], a[min] = a[min], a[i]\n",
        "  print(a)\n",
        "\n",
        "start_time = time.time()\n",
        "#TODO\n",
        "print(\"Сортировка....\\\\\")\n",
        "for i in range(user_m):\n",
        "  m = copy.copy(matrix[i])\n",
        "  selectionSort(m)\n",
        "\n",
        "print(\"--- {0} ms ---\".format(round((time.time() - start_time)*1000)))"
      ]
    },
    {
      "cell_type": "code",
      "execution_count": null,
      "id": "roman-silly",
      "metadata": {
        "scrolled": true,
        "id": "roman-silly",
        "outputId": "3e081bd6-72b0-46f2-c227-3cd2e1adc1ef",
        "colab": {
          "base_uri": "https://localhost:8080/"
        }
      },
      "outputs": [
        {
          "output_type": "stream",
          "name": "stdout",
          "text": [
            "Сортировка....\\\n",
            "[-10, -8, -6, -5, -3, -1, 0, 0, 2, 3]\n",
            "[-4, -3, -2, -1, 0, 1, 2, 3, 5, 5]\n",
            "[-10, -10, -9, -9, -7, -6, -1, 1, 3, 3]\n",
            "[-9, -9, -8, -6, -6, -6, 0, 1, 5, 5]\n",
            "[-10, -9, -8, -7, -5, -3, -2, 1, 1, 5]\n",
            "[-9, -7, -6, -5, -4, -2, -2, -1, 1, 4]\n",
            "[-9, -9, -8, -5, -4, -3, -2, 2, 3, 4]\n",
            "[-10, -10, -5, -4, 0, 1, 2, 3, 3, 5]\n",
            "[-9, -9, -4, -3, 1, 3, 3, 4, 5, 5]\n",
            "[-10, -9, -3, -3, -2, 0, 1, 2, 3, 4]\n",
            "--- 1 ms ---\n"
          ]
        }
      ],
      "source": [
        "# Сортировка вставкой.\n",
        "def insertSort(matrix):\n",
        "  for i in range(len(matrix)):\n",
        "    j = i\n",
        "    while j > 0 and matrix[j-1]>matrix[j]:\n",
        "      matrix[j-1], matrix[j] = matrix[j], matrix[j-1]\n",
        "      j = j-1\n",
        "  print(matrix)\n",
        "start_time = time.time()\n",
        "#TODO\n",
        "\n",
        "\n",
        "print(\"Сортировка....\\\\\")\n",
        "for i in range(user_m):\n",
        "  m = copy.copy(matrix[i])\n",
        "  insertSort(m)\n",
        "print(\"--- {0} ms ---\".format(round((time.time() - start_time)*1000)))"
      ]
    },
    {
      "cell_type": "code",
      "execution_count": null,
      "id": "vital-implementation",
      "metadata": {
        "id": "vital-implementation",
        "outputId": "fd898e59-a78f-45d6-ea8f-15d9762ce12c",
        "colab": {
          "base_uri": "https://localhost:8080/"
        }
      },
      "outputs": [
        {
          "output_type": "stream",
          "name": "stdout",
          "text": [
            "Сортировка....\\\n",
            "[-10, -8, -6, -5, -3, -1, 0, 0, 2, 3]\n",
            "[-4, -3, -2, -1, 0, 1, 2, 3, 5, 5]\n",
            "[-10, -10, -9, -9, -7, -6, -1, 1, 3, 3]\n",
            "[-9, -9, -8, -6, -6, -6, 0, 1, 5, 5]\n",
            "[-10, -9, -8, -7, -5, -3, -2, 1, 1, 5]\n",
            "[-9, -7, -6, -5, -4, -2, -2, -1, 1, 4]\n",
            "[-9, -9, -8, -5, -4, -3, -2, 2, 3, 4]\n",
            "[-10, -10, -5, -4, 0, 1, 2, 3, 3, 5]\n",
            "[-9, -9, -4, -3, 1, 3, 3, 4, 5, 5]\n",
            "[-10, -9, -3, -3, -2, 0, 1, 2, 3, 4]\n",
            "--- 1 ms ---\n"
          ]
        }
      ],
      "source": [
        "# Сортировка обменом. || Сортировка пузырьком.\n",
        "def bubbleSort(matrix):\n",
        "  for i in range(len(matrix)-1):\n",
        "      for j in range(len(matrix)-i-1):\n",
        "          if matrix[j] > matrix[j+1]:\n",
        "              matrix[j], matrix[j+1] = matrix[j+1], matrix[j]\n",
        "  print(matrix)\n",
        "start_time = time.time()\n",
        "#TODO\n",
        "\n",
        "print(\"Сортировка....\\\\\")\n",
        "for i in range(user_m):\n",
        "  m = copy.copy(matrix[i])\n",
        "  bubbleSort(m)\n",
        "print(\"--- {0} ms ---\".format(round((time.time() - start_time)*1000)))"
      ]
    },
    {
      "cell_type": "code",
      "execution_count": null,
      "id": "veterinary-glory",
      "metadata": {
        "id": "veterinary-glory",
        "outputId": "21e7c6db-4729-4a92-c66d-b188c3c61721",
        "colab": {
          "base_uri": "https://localhost:8080/"
        }
      },
      "outputs": [
        {
          "output_type": "stream",
          "name": "stdout",
          "text": [
            "Сортировка....\\\n",
            "[-10, -8, -6, -5, -3, -1, 0, 0, 2, 3]\n",
            "[-4, -3, -2, -1, 0, 1, 2, 3, 5, 5]\n",
            "[-10, -10, -9, -9, -7, -6, -1, 1, 3, 3]\n",
            "[-9, -9, -8, -6, -6, -6, 0, 1, 5, 5]\n",
            "[-10, -9, -8, -7, -5, -3, -2, 1, 1, 5]\n",
            "[-9, -7, -6, -5, -4, -2, -2, -1, 1, 4]\n",
            "[-9, -9, -8, -5, -4, -3, -2, 2, 3, 4]\n",
            "[-10, -10, -5, -4, 0, 1, 2, 3, 3, 5]\n",
            "[-9, -9, -4, -3, 1, 3, 3, 4, 5, 5]\n",
            "[-10, -9, -3, -3, -2, 0, 1, 2, 3, 4]\n",
            "--- 6 ms ---\n"
          ]
        }
      ],
      "source": [
        "# Сортировка Шелла.\n",
        "start_time = time.time()\n",
        "def shellSort(matrix):\n",
        "  gap = len(matrix) // 2\n",
        "  while gap > 0:\n",
        "    for i in range(gap, len(matrix)):\n",
        "      cur = matrix[i]\n",
        "      pos = i\n",
        "      while pos >= gap and matrix[pos - gap] > cur:\n",
        "        matrix[pos] = matrix[pos - gap]\n",
        "        pos -= gap\n",
        "        matrix[pos] = cur\n",
        "    gap //= 2\n",
        "  print(matrix)\n",
        "#TODO\n",
        "print(\"Сортировка....\\\\\")\n",
        "for i in range(user_m):\n",
        "  m = copy.copy(matrix[i])\n",
        "  shellSort(m)\n",
        "print(\"--- {0} ms ---\".format(round((time.time() - start_time)*1000)))"
      ]
    },
    {
      "cell_type": "code",
      "execution_count": null,
      "id": "correct-chaos",
      "metadata": {
        "id": "correct-chaos",
        "outputId": "e59ca60d-df91-4a47-e1e3-c8603e99747b",
        "colab": {
          "base_uri": "https://localhost:8080/"
        }
      },
      "outputs": [
        {
          "output_type": "stream",
          "name": "stdout",
          "text": [
            "Сортировка....\\\n",
            "[-10, -8, -6, -5, -3, -1, 0, 0, 2, 3]\n",
            "[-4, -3, -2, -1, 0, 1, 2, 3, 5, 5]\n",
            "[-10, -10, -9, -9, -7, -6, -1, 1, 3, 3]\n",
            "[-9, -9, -8, -6, -6, -6, 0, 1, 5, 5]\n",
            "[-10, -9, -8, -7, -5, -3, -2, 1, 1, 5]\n",
            "[-9, -7, -6, -5, -4, -2, -2, -1, 1, 4]\n",
            "[-9, -9, -8, -5, -4, -3, -2, 2, 3, 4]\n",
            "[-10, -10, -5, -4, 0, 1, 2, 3, 3, 5]\n",
            "[-9, -9, -4, -3, 1, 3, 3, 4, 5, 5]\n",
            "[-10, -9, -3, -3, -2, 0, 1, 2, 3, 4]\n",
            "--- 8 ms ---\n"
          ]
        }
      ],
      "source": [
        "# Быстрая сортировка.\n",
        "def quickSort(s):\n",
        "  if len(s) <= 1:\n",
        "    return s\n",
        "  elem = s[0]\n",
        "  right = [i for i in s if i < elem ]\n",
        "  center = [i for i in s if i == elem ]\n",
        "  left = [i for i in s if i > elem ]\n",
        "  return quickSort(right) + center + quickSort(left)\n",
        "\n",
        "start_time = time.time()\n",
        "\n",
        "print(\"Сортировка....\\\\\")\n",
        "for i in range(user_m):\n",
        "  m = copy.copy(matrix[i])\n",
        "  print(quickSort(m))\n",
        "print(\"--- {0} ms ---\".format(round((time.time() - start_time)*1000)))\n",
        "    "
      ]
    },
    {
      "cell_type": "code",
      "execution_count": null,
      "id": "french-czech",
      "metadata": {
        "id": "french-czech",
        "colab": {
          "base_uri": "https://localhost:8080/"
        },
        "outputId": "685c5196-f8b1-4560-a7c5-10faeb547cbc"
      },
      "outputs": [
        {
          "output_type": "stream",
          "name": "stdout",
          "text": [
            "Сортировка....\\\n",
            "[-10, -8, -6, -5, -3, -1, 0, 0, 2, 3]\n",
            "[-4, -3, -2, -1, 0, 1, 2, 3, 5, 5]\n",
            "[-10, -10, -9, -9, -7, -6, -1, 1, 3, 3]\n",
            "[-9, -9, -8, -6, -6, -6, 0, 1, 5, 5]\n",
            "[-10, -9, -8, -7, -5, -3, -2, 1, 1, 5]\n",
            "[-9, -7, -6, -5, -4, -2, -2, -1, 1, 4]\n",
            "[-9, -9, -8, -5, -4, -3, -2, 2, 3, 4]\n",
            "[-10, -10, -5, -4, 0, 1, 2, 3, 3, 5]\n",
            "[-9, -9, -4, -3, 1, 3, 3, 4, 5, 5]\n",
            "[-10, -9, -3, -3, -2, 0, 1, 2, 3, 4]\n",
            "--- 8 ms ---\n"
          ]
        }
      ],
      "source": [
        "# Турнирная сортировка.\n",
        "def heapify(a, n, i):\n",
        "  max = i\n",
        "  left = 2*i+1\n",
        "  right = 2*i+2\n",
        "  if left < n and a[i] < a[left]:\n",
        "    max = left\n",
        "  if right < n and a[max] < a[right]:\n",
        "    max = right\n",
        "  \n",
        "  if max != i:\n",
        "    a[i], a[max] = a[max], a[i]\n",
        "    heapify(a, n, max)\n",
        "\n",
        "def heapSort(matrix):\n",
        "  for i in range(len(matrix)//2, -1, -1):\n",
        "    heapify(matrix, len(matrix), i)\n",
        "  for i in range(len(matrix)-1, 0, -1):\n",
        "    matrix[i], matrix[0] = matrix[0], matrix[i]\n",
        "    heapify(matrix, i, 0)\n",
        "  print(matrix)\n",
        "\n",
        "start_time = time.time()\n",
        "#TODO\n",
        "print(\"Сортировка....\\\\\")\n",
        "for i in range(user_m):\n",
        "  m = copy.copy(matrix[i])\n",
        "  heapSort(m)\n",
        "print(\"--- {0} ms ---\".format(round((time.time() - start_time)*1000)))"
      ]
    },
    {
      "cell_type": "markdown",
      "id": "rental-jerusalem",
      "metadata": {
        "id": "rental-jerusalem"
      },
      "source": [
        "### Вывод\n"
      ]
    },
    {
      "cell_type": "markdown",
      "id": "9d108a0a",
      "metadata": {
        "id": "9d108a0a"
      },
      "source": []
    }
  ],
  "metadata": {
    "kernelspec": {
      "display_name": "Python 3 (ipykernel)",
      "language": "python",
      "name": "python3"
    },
    "language_info": {
      "codemirror_mode": {
        "name": "ipython",
        "version": 3
      },
      "file_extension": ".py",
      "mimetype": "text/x-python",
      "name": "python",
      "nbconvert_exporter": "python",
      "pygments_lexer": "ipython3",
      "version": "3.10.2"
    },
    "colab": {
      "provenance": [],
      "include_colab_link": true
    }
  },
  "nbformat": 4,
  "nbformat_minor": 5
}